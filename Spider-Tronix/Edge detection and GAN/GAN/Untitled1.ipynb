{
 "cells": [
  {
   "cell_type": "code",
   "execution_count": null,
   "metadata": {},
   "outputs": [],
   "source": [
    "import torch\n",
    "import numpy as np\n",
    "import matplotlib.pyplot as pyplot\n",
    "import matplotlib.animation as animation\n",
    "import torchvision\n",
    "import torch.nn as nn  # All neural network modules, nn.Linear, nn.Conv2d, BatchNorm, Loss functions\n",
    "import torch.optim as optim  # For all Optimization algorithms, SGD, Adam, etc.\n",
    "import torchvision.datasets as datasets  # Has standard datasets we can import in a nice way\n",
    "import torchvision.transforms as transforms  # Transformations we can perform on our dataset\n",
    "from torch.utils.data import (\n",
    "    DataLoader,\n",
    "    )  # Gives easier dataset managment and creates mini batches\n",
    "from torch.utils.tensorboard import SummaryWriter  # to print to tensorboard\n",
    "import discriminator # Import our models we've defined (from DCGAN paper)\n",
    "import generator\n",
    "import config\n"
   ]
  },
  {
   "cell_type": "code",
   "execution_count": null,
   "metadata": {},
   "outputs": [],
   "source": [
    "def weights_initialize(model):\n",
    "    classname = model.__class__.__name__\n",
    "    if classname.find('Conv') != -1:\n",
    "        nn.init.normal_(model.weight.data, 0.0, 0.02)\n",
    "    elif classname.find('BatchNorm') != -1:\n",
    "        nn.init.normal_(model.weight.data, 1.0, 0.02)\n",
    "        nn.init.constant_(model.bias.data, 0)\n",
    "\n",
    "\n",
    "rootDir = r\"E:/Prem/cnn/\"\n",
    "workers = 2"
   ]
  },
  {
   "cell_type": "code",
   "execution_count": null,
   "metadata": {},
   "outputs": [],
   "source": [
    "my_transforms = transforms.Compose(\n",
    "    [\n",
    "        transforms.Resize(config.image_size),\n",
    "        transforms.CenterCrop(config.image_size),\n",
    "        transforms.ToTensor(),\n",
    "        transforms.Normalize((0.5,), (0.5,)),\n",
    "    ]\n",
    ")\n",
    "\n",
    "dataset = datasets.ImageFolder(\n",
    "    root=rootDir, transform=my_transforms\n",
    ")"
   ]
  },
  {
   "cell_type": "code",
   "execution_count": null,
   "metadata": {},
   "outputs": [],
   "source": [
    "dataloader = DataLoader(dataset, batch_size=config.batch_size, shuffle=True, num_workers = workers)\n",
    "\n",
    "device = torch.device(\"cuda\" if (torch.cuda.is_available() and config.gpus > 0) else \"cpu\")\n"
   ]
  },
  {
   "cell_type": "code",
   "execution_count": null,
   "metadata": {},
   "outputs": [],
   "source": [
    "# Create discriminator and generator\n",
    "\n",
    "netG = generator.Generator(config.channels_noise, config.channels_img, config.features_g,config.gpus).to(device)\n",
    "netG.apply(weights_initialize)\n",
    "netD = discriminator.Discriminator(config.channels_img, config.features_d,config.gpus).to(device)\n",
    "netD.apply(weights_initialize)"
   ]
  },
  {
   "cell_type": "code",
   "execution_count": null,
   "metadata": {},
   "outputs": [],
   "source": [
    "optimizerD = optim.Adam(netD.parameters(), lr=config.lr, betas=(config.beta1, 0.999))\n",
    "optimizerG = optim.Adam(netG.parameters(), lr=config.lr, betas=(config.beta1, 0.999))\n",
    "\n",
    "netG.train()\n",
    "netD.train()\n",
    "\n",
    "criterion = nn.BCELoss()\n",
    "\n",
    "real_label = 1\n",
    "fake_label = 0"
   ]
  },
  {
   "cell_type": "code",
   "execution_count": null,
   "metadata": {},
   "outputs": [],
   "source": [
    "fixed_noise = torch.randn(64, config.channels_noise, 1, 1).to(device)\n",
    "real_summary = SummaryWriter(r\"E:\\Prem\\cnn\\real\")   #logdir\n",
    "fake_summary = SummaryWriter(r\"E:\\Prem\\cnn\\fake\")\n",
    "step = 0\n",
    "images_real = []\n",
    "images_fake = []\n",
    "loss_g = []\n",
    "loss_d = []"
   ]
  },
  {
   "cell_type": "code",
   "execution_count": null,
   "metadata": {},
   "outputs": [],
   "source": [
    "print(\"Training\")\n",
    "\n",
    "for epoch in range(config.num_epochs):\n",
    "    for batch_idx, (data, targets) in enumerate(dataloader):\n",
    "        data = data.to(device)\n",
    "        batch_size = data.shape[0]\n",
    "\n",
    "        ### Train Discriminator: max log(D(x)) + log(1 - D(G(z)))\n",
    "        netD.zero_grad()\n",
    "        #real_cpu = data.to(device)\n",
    "        label = (torch.ones(config.batch_size) * 0.9).to(device)\n",
    "        output = netD(data).reshape(-1)\n",
    "        lossD_real = criterion(output, label)\n",
    "        D_x = output.mean().item()\n",
    "\n",
    "        noise = torch.randn(config.batch_size, config.channels_noise, 1, 1).to(device)\n",
    "        fake = netG(noise)\n",
    "        label = (torch.ones(config.batch_size) * 0.1).to(device)\n",
    "\n",
    "        output = netD(fake.detach()).reshape(-1)\n",
    "        lossD_fake = criterion(output, label)\n",
    "\n",
    "        lossD = lossD_real + lossD_fake\n",
    "        lossD.backward()\n",
    "        optimizerD.step()\n",
    "\n",
    "        ### Train Generator: max log(D(G(z)))\n",
    "        netG.zero_grad()\n",
    "        label = torch.ones(config.batch_size).to(device)\n",
    "        output = netD(fake).reshape(-1)\n",
    "        lossG = criterion(output, label)\n",
    "        lossG.backward()\n",
    "        optimizerG.step()\n",
    "\n",
    "        # Print losses ocassionally and print to tensorboard\n",
    "        if batch_idx % 100 == 0:\n",
    "            step += 1\n",
    "            print(\n",
    "                f\"Epoch [{epoch}/{config.num_epochs}] Batch {batch_idx}/{len(dataloader)} \\\n",
    "                  Loss D: {lossD:.4f}, loss G: {lossG:.4f} D(x): {D_x:.4f}\"\n",
    "            )\n",
    "\n",
    "            with torch.no_grad():\n",
    "                fake = netG(fixed_noise).detach().cpu()\n",
    "                img_grid_real = torchvision.utils.make_grid(data[:32], normalize=True)\n",
    "                img_grid_fake = torchvision.utils.make_grid(fake[:32], normalize=True)\n",
    "                images_real.append(img_grid_real)\n",
    "                images_fake.append(img_grid_fake)\n",
    "                real_summary.add_image(                                           #adding logfiles in tensor board\n",
    "                    \"Real Images\", img_grid_real, global_step=step\n",
    "                )\n",
    "                fake_summary.add_image(\n",
    "                    \"Fake Images\", img_grid_fake, global_step=step\n",
    "                )\n",
    "        loss_g.append(lossG)\n",
    "        loss_d.append(lossD)"
   ]
  },
  {
   "cell_type": "code",
   "execution_count": null,
   "metadata": {},
   "outputs": [],
   "source": [
    "plt.figure(figsize=(10,5))\n",
    "plt.title(\"Generator and Discriminator Loss During Training\")\n",
    "plt.plot(loss_g,label=\"G\")\n",
    "plt.plot(loss_d,label=\"D\")\n",
    "plt.xlabel(\"iterations\")\n",
    "plt.ylabel(\"Loss\")\n",
    "plt.legend()\n",
    "plt.show()\n",
    "\n",
    "fig = plt.figure(figsize=(8,8))\n",
    "plt.axis(\"off\")\n",
    "ims = [[plt.imshow(np.transpose(i,(1,2,0)), animated=True)] for i in images_fake]\n",
    "ani = animation.ArtistAnimation(fig, ims, interval=1000, repeat_delay=1000, blit=True)\n",
    "\n",
    "HTML(ani.to_jshtml())\n"
   ]
  }
 ],
 "metadata": {
  "kernelspec": {
   "display_name": "Python 3",
   "language": "python",
   "name": "python3"
  },
  "language_info": {
   "codemirror_mode": {
    "name": "ipython",
    "version": 3
   },
   "file_extension": ".py",
   "mimetype": "text/x-python",
   "name": "python",
   "nbconvert_exporter": "python",
   "pygments_lexer": "ipython3",
   "version": "3.8.3"
  }
 },
 "nbformat": 4,
 "nbformat_minor": 4
}
